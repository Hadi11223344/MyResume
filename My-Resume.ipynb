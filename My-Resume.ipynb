{
 "cells": [
  {
   "cell_type": "markdown",
   "metadata": {
    "collapsed": true
   },
   "source": [
    "# My Resume"
   ]
  },
  {
   "cell_type": "markdown",
   "metadata": {},
   "source": [
    "<img src=\"my-img.jpg\" alt=\"Hammad's Image\" width=\"200\" style=\"float: left; margin-right: 10px;\"/>\n"
   ]
  },
  {
   "cell_type": "markdown",
   "metadata": {},
   "source": [
    "## Computer Science Student"
   ]
  },
  {
   "cell_type": "markdown",
   "metadata": {},
   "source": [
    "### Contact\n",
    "- Full name: Hammad Tahir\n",
    "- Email: Hammadtahirhammadtahir4@gmail.com\n",
    "- Phone: 03334445550\n",
    "- LinkedIn: https://www.linkedin.com/in/hammad-tahir-b4832b249/\n",
    "- GitHub: https://github.com/Hadi11223344"
   ]
  },
  {
   "cell_type": "markdown",
   "metadata": {},
   "source": [
    "### Skills\n",
    "- Programming languages\n",
    "    - Python (advanced)\n",
    "    - C (moderate)\n",
    "    - SQL (basic)\n",
    "    - Bash (basic)\n",
    "    - HTML/CSS (working knowledge)\n",
    "- Libraries\n",
    "    - Python\n",
    "        - Numpy\n",
    "        - Pandas\n",
    "        - sklearn\n",
    "        - MySQLdb\n",
    "        - matplotlib\n",
    "        - Anaconda\n",
    "        - Beautiful Soup\n",
    "\n",
    "- IDEs\n",
    "    - Spyder\n",
    "    - Jupyter Notebook\n",
    "    - Terminal\n",
    "- Version Control Systems\n",
    "    - Git / GitHub\n",
    "- Databases\n",
    "    - MySQL\n",
    "- Data formats\n",
    "    - CSV\n",
    "    - JSON\n",
    "    - XML\n",
    "    - SQL databases\n",
    "    - Web\n",
    "- Operating Systems\n",
    "    - Windows 7/8/8.1/10\n",
    "    - Ubuntu 16.04\n",
    "- Applicable Software\n",
    "    - Microsoft Office (Word, Excel, PowerPoint, Outlook, Access, OneNote, SharePoint)\n",
    "- Soft skills\n",
    "    - Self-taught everything, can learn anything quickly\n",
    "    - Easy to get along with, friendly"
   ]
  },
  {
   "cell_type": "markdown",
   "metadata": {},
   "source": [
    "### Relevant Experience"
   ]
  },
  {
   "cell_type": "markdown",
   "metadata": {},
   "source": [
    "### Education\n",
    "- University: University of Management and Technology\n",
    "- College: Unique Group of Colleges Muslim Town\n",
    "- Certifications\n",
    "    - Object Oriented Programming Specialisation by University of London\n",
    "    - E-rozgaar Python for Machine Learning"
   ]
  },
  {
   "cell_type": "markdown",
   "metadata": {},
   "source": [
    "### Projects\n",
    "#### Crypto-Currency Exchange Platform in C++ \n",
    "- I developed efficient crypto-currency exchange platform demonstrating the functionalities used in real world platforms\n",
    "- I used the best practices possible to create it robust and used concepts of Object Oriented Programming, STL Library, Code Refactoring and much more\n",
    "- Also Used Dataset from a crypto Platform in it\n",
    "- Date: august 2023\n",
    "- Link: https://github.com/Hadi11223344/CryptEx---C-Cryptocurrency-Exchange\n",
    "\n",
    "#### GUI based Minesweeper Game\n",
    "- Created a GUI game using python OOPs and Tkinter libarary\n",
    "- Date: september 2023\n",
    "- Link: https://github.com/Hadi11223344/Minesweeper-Game-Python3\n",
    "\n",
    "#### Web-Scrapping Using Python\n",
    "- Explored Python Library BeautifulSoup and scraped a real website \n",
    "- Date: September 2023\n",
    "- Link: https://github.com/Hadi11223344/Web-Scraping-Python-BeautifulSoup\n"
   ]
  },
  {
   "cell_type": "markdown",
   "metadata": {},
   "source": [
    "### Interests\n",
    "- Games\n",
    "    - Game-playing AI (e.g. poker)\n",
    "- Sports\n",
    "    - Fantasy sports\n",
    "    - Fantasy football\n",
    "    - Fantasy football algorithms and analysis\n",
    "    - Maple Leafs, Eagles, Blue Jays\n",
    "    - Playing soccer and road hockey\n",
    "- Music\n",
    "    - Drumming\n",
    "- Video games\n",
    "    - Sports gaming"
   ]
  },
  {
   "cell_type": "code",
   "execution_count": null,
   "metadata": {},
   "outputs": [],
   "source": []
  }
 ],
 "metadata": {
  "kernelspec": {
   "display_name": "Python 3 (ipykernel)",
   "language": "python",
   "name": "python3"
  },
  "language_info": {
   "codemirror_mode": {
    "name": "ipython",
    "version": 3
   },
   "file_extension": ".py",
   "mimetype": "text/x-python",
   "name": "python",
   "nbconvert_exporter": "python",
   "pygments_lexer": "ipython3",
   "version": "3.11.4"
  }
 },
 "nbformat": 4,
 "nbformat_minor": 1
}
